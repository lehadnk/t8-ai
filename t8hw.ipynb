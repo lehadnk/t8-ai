{
 "cells": [
  {
   "cell_type": "markdown",
   "id": "46fa996b-1c8b-464f-b690-183fdac6eedb",
   "metadata": {},
   "source": [
    "# Задание на лабораторную работу\n",
    "\n",
    "Тема: «Прогнозирование данных на основе множественной линейной регрессии»\n",
    "\n",
    "Автор: Алексей Заузин, группа 4091\n",
    "\n",
    "Цель работы: разработка приложения для прогнозирования цен на недвижимость.\n",
    "\n",
    "Задачи:\n",
    "1.\tЗагрузить выборку данных с сайта: https://www.kaggle.com/code/djuuuu/general-linear-models/data \n",
    "2.\tВыбрать согласно варианту 3 входных параметра. Выходной параметр у всех одинаковый - price.\n",
    "3.\tРазбить выборку данных на тренировочную и тестовую.\n",
    "4.\tНормализовать данные тренировочной выборки.\n",
    "5.\tПостроить модель согласно варианту и обучить её на тренировочной выборке.\n",
    "6.\tОтобразить среднеквадратическую ошибку (RMSE). Сделать выводы о качестве работы модели исходя из значения ошибки и обосновать причины рассчитанной точности (перечислить предполагаемые факторы влияния).\n",
    "7.\tВизуализировать гистограммы рассчитанных и реальных значений прогнозируемого параметра. Сделать выводы о качестве работы модели исходя из анализа гистограммы.\n",
    "8.\tПредставить функциональный вид обученной модели. Сделать вывод о влиянии отдельных входных параметров на расчёт выходного параметра.\n",
    "9.\tСделать итоговый вывод о точности созданной модели на основание совокупного анализа всех использованных методов оценки.\n",
    "\n",
    "Индивидуальное задание:\n",
    "Модель: [Ridge Regression](https://scikit-learn.org/0.21/modules/generated/sklearn.linear_model.Ridge.html#sklearn.linear_model.Ridge)\n",
    "\n",
    "Параметры: bedrooms, waterfront, sqft_living"
   ]
  },
  {
   "cell_type": "markdown",
   "id": "a2338265981b10b6",
   "metadata": {},
   "source": [
    "# Подготовка выборки\n",
    "Загрузим и изучим выборку. Как мы видим ниже, примерно 10% вариантов значений цен имеют только один объект недвижимости, а дальнейшее изучение выборки дает понимание, что такие аномалии являются либо ошибками ввода (например, значения вроде 460.001 вместо 460.000), либо чрезмерной погрешностью оценки (например, 332.220 долларов)."
   ]
  },
  {
   "cell_type": "code",
   "id": "14e7ea825878602",
   "metadata": {
    "ExecuteTime": {
     "end_time": "2024-04-13T11:42:50.330048Z",
     "start_time": "2024-04-13T11:42:50.299346Z"
    }
   },
   "source": [
    "import math\n",
    "\n",
    "import pandas as pd\n",
    "import numpy as np\n",
    "from sklearn.preprocessing import StandardScaler\n",
    "\n",
    "data = pd.read_csv(\"kc_house_data.csv\")\n",
    "\n",
    "y = data[\"price\"]\n",
    "X = data[[\"bedrooms\", \"waterfront\", \"sqft_living\"]]\n",
    "\n",
    "total = 0\n",
    "ones = []\n",
    "for c, v in y.value_counts().items():\n",
    "    if v == 1:\n",
    "        ones.append(c)\n",
    "    total += v\n",
    "print(total, len(ones))\n",
    "print(pd.DataFrame(ones))"
   ],
   "outputs": [
    {
     "name": "stdout",
     "output_type": "stream",
     "text": [
      "21613 2395\n",
      "              0\n",
      "0      724000.0\n",
      "1     2271150.0\n",
      "2      162950.0\n",
      "3      919000.0\n",
      "4      853505.0\n",
      "...         ...\n",
      "2390   607010.0\n",
      "2391  1362500.0\n",
      "2392   298800.0\n",
      "2393   957500.0\n",
      "2394   402101.0\n",
      "\n",
      "[2395 rows x 1 columns]\n"
     ]
    }
   ],
   "execution_count": 38
  },
  {
   "cell_type": "markdown",
   "id": "66829b55a92292ba",
   "metadata": {},
   "source": [
    "Попробуем \"спасти\" такие значения округлив все цены до десятков тысяч долларов, т.к. меньшая погрешность является маловажной в изучаемом вопросе (рынок жилья в Сиэттле и его окресностях это объекты стоимостью сотни тысяч/миллионы долларов)."
   ]
  },
  {
   "cell_type": "code",
   "id": "17d0f9910c413693",
   "metadata": {
    "ExecuteTime": {
     "end_time": "2024-04-13T11:42:50.831731Z",
     "start_time": "2024-04-13T11:42:50.791167Z"
    }
   },
   "source": [
    "import pandas as pd\n",
    "import numpy as np\n",
    "\n",
    "data = pd.read_csv(\"kc_house_data.csv\")\n",
    "\n",
    "y = data[\"price\"].apply(lambda x: int(10000 * round(float(x) / 10000)))\n",
    "X = data[[\"bedrooms\", \"waterfront\", \"sqft_living\"]]\n",
    "\n",
    "total = 0\n",
    "ones = []\n",
    "for c, v in y.value_counts().items():\n",
    "    if v == 1:\n",
    "        ones.append(c)\n",
    "    total += v\n",
    "print(total, len(ones))\n",
    "print(pd.DataFrame(ones))"
   ],
   "outputs": [
    {
     "name": "stdout",
     "output_type": "stream",
     "text": [
      "21613 64\n",
      "          0\n",
      "0   3340000\n",
      "1   1630000\n",
      "2   5350000\n",
      "3   2240000\n",
      "4   5300000\n",
      "..      ...\n",
      "59  2530000\n",
      "60  4210000\n",
      "61  1930000\n",
      "62  2410000\n",
      "63  3570000\n",
      "\n",
      "[64 rows x 1 columns]\n"
     ]
    }
   ],
   "execution_count": 39
  },
  {
   "cell_type": "markdown",
   "id": "9bea374cb28fd2c4",
   "metadata": {},
   "source": [
    "Оставшиеся 64 значения мы просто выкинем из датасета как малозначимые выбросы"
   ]
  },
  {
   "cell_type": "code",
   "id": "158e43e3dfae75bc",
   "metadata": {
    "ExecuteTime": {
     "end_time": "2024-04-13T11:42:51.354248Z",
     "start_time": "2024-04-13T11:42:51.220190Z"
    }
   },
   "source": [
    "data = pd.read_csv(\"kc_house_data.csv\")\n",
    "\n",
    "y = data[\"price\"].apply(lambda x: int(10000 * round(float(x) / 10000)))\n",
    "\n",
    "total = 0\n",
    "ones = []\n",
    "for c, v in y.value_counts().items():\n",
    "    if v == 1:\n",
    "        ones.append(c)\n",
    "    total += v\n",
    "\n",
    "indieces_to_remove = [k for k, v in y.items() if v in ones]\n",
    "\n",
    "data = pd.read_csv(\"kc_house_data.csv\")\n",
    "[data.drop(i, axis=0, inplace=True) for i in indieces_to_remove]\n",
    "y = data[\"price\"].apply(lambda x: int(10000 * round(float(x) / 10000)))\n",
    "X = data[[\"bedrooms\", \"waterfront\", \"sqft_living\"]]\n",
    "\n",
    "print(len(y), len(X))"
   ],
   "outputs": [
    {
     "name": "stdout",
     "output_type": "stream",
     "text": [
      "21549 21549\n"
     ]
    }
   ],
   "execution_count": 40
  },
  {
   "cell_type": "markdown",
   "id": "9e343119-2486-4266-a78a-7ccb0b3f8965",
   "metadata": {},
   "source": [
    "# Разделение выборки на тренировочную и тестовую"
   ]
  },
  {
   "cell_type": "code",
   "id": "95962bc3-7d7f-4278-bc71-9c3bcd175431",
   "metadata": {
    "ExecuteTime": {
     "end_time": "2024-04-13T11:42:51.521440Z",
     "start_time": "2024-04-13T11:42:51.512678Z"
    }
   },
   "source": [
    "from sklearn.model_selection import train_test_split\n",
    "X_train, X_test, y_train, y_test = train_test_split(X, y, test_size=0.3, stratify=y, random_state=42)"
   ],
   "outputs": [],
   "execution_count": 41
  },
  {
   "cell_type": "code",
   "id": "78d69ca4f19cd222",
   "metadata": {
    "ExecuteTime": {
     "end_time": "2024-04-13T11:42:51.782452Z",
     "start_time": "2024-04-13T11:42:51.778652Z"
    }
   },
   "source": [
    "print(X_train)"
   ],
   "outputs": [
    {
     "name": "stdout",
     "output_type": "stream",
     "text": [
      "       bedrooms  waterfront  sqft_living\n",
      "1277          2           0         2630\n",
      "395           2           0         1220\n",
      "15082         3           0         1330\n",
      "19324         3           0         3850\n",
      "20060         4           0         2612\n",
      "...         ...         ...          ...\n",
      "11203         4           0         2040\n",
      "11611         4           0         2090\n",
      "12853         4           0         1880\n",
      "1113          4           0         3030\n",
      "21415         4           0         2245\n",
      "\n",
      "[15084 rows x 3 columns]\n"
     ]
    }
   ],
   "execution_count": 42
  },
  {
   "cell_type": "markdown",
   "id": "756e4f8087b41cc3",
   "metadata": {},
   "source": [
    "# Нормализация данных"
   ]
  },
  {
   "cell_type": "code",
   "id": "8cca38c6a1bd7b0d",
   "metadata": {
    "ExecuteTime": {
     "end_time": "2024-04-13T11:42:52.138769Z",
     "start_time": "2024-04-13T11:42:52.132982Z"
    }
   },
   "source": [
    "from sklearn.preprocessing import StandardScaler\n",
    "scaler = StandardScaler()\n",
    "X_train = scaler.fit_transform(X_train)\n",
    "X_test = scaler.fit_transform(X_test)"
   ],
   "outputs": [],
   "execution_count": 43
  },
  {
   "cell_type": "markdown",
   "id": "a4c1dcfd20117ee1",
   "metadata": {},
   "source": [
    "# Обучение модели на тренировочной выборке"
   ]
  },
  {
   "cell_type": "code",
   "id": "581cab2868184f59",
   "metadata": {
    "ExecuteTime": {
     "end_time": "2024-04-13T11:42:52.355437Z",
     "start_time": "2024-04-13T11:42:52.350397Z"
    }
   },
   "source": [
    "from sklearn.linear_model import Ridge\n",
    "\n",
    "ridge = Ridge(alpha=1.0)\n",
    "ridge.fit(X_train, y_train)"
   ],
   "outputs": [
    {
     "data": {
      "text/plain": [
       "Ridge()"
      ],
      "text/html": [
       "<style>#sk-container-id-3 {\n",
       "  /* Definition of color scheme common for light and dark mode */\n",
       "  --sklearn-color-text: black;\n",
       "  --sklearn-color-line: gray;\n",
       "  /* Definition of color scheme for unfitted estimators */\n",
       "  --sklearn-color-unfitted-level-0: #fff5e6;\n",
       "  --sklearn-color-unfitted-level-1: #f6e4d2;\n",
       "  --sklearn-color-unfitted-level-2: #ffe0b3;\n",
       "  --sklearn-color-unfitted-level-3: chocolate;\n",
       "  /* Definition of color scheme for fitted estimators */\n",
       "  --sklearn-color-fitted-level-0: #f0f8ff;\n",
       "  --sklearn-color-fitted-level-1: #d4ebff;\n",
       "  --sklearn-color-fitted-level-2: #b3dbfd;\n",
       "  --sklearn-color-fitted-level-3: cornflowerblue;\n",
       "\n",
       "  /* Specific color for light theme */\n",
       "  --sklearn-color-text-on-default-background: var(--sg-text-color, var(--theme-code-foreground, var(--jp-content-font-color1, black)));\n",
       "  --sklearn-color-background: var(--sg-background-color, var(--theme-background, var(--jp-layout-color0, white)));\n",
       "  --sklearn-color-border-box: var(--sg-text-color, var(--theme-code-foreground, var(--jp-content-font-color1, black)));\n",
       "  --sklearn-color-icon: #696969;\n",
       "\n",
       "  @media (prefers-color-scheme: dark) {\n",
       "    /* Redefinition of color scheme for dark theme */\n",
       "    --sklearn-color-text-on-default-background: var(--sg-text-color, var(--theme-code-foreground, var(--jp-content-font-color1, white)));\n",
       "    --sklearn-color-background: var(--sg-background-color, var(--theme-background, var(--jp-layout-color0, #111)));\n",
       "    --sklearn-color-border-box: var(--sg-text-color, var(--theme-code-foreground, var(--jp-content-font-color1, white)));\n",
       "    --sklearn-color-icon: #878787;\n",
       "  }\n",
       "}\n",
       "\n",
       "#sk-container-id-3 {\n",
       "  color: var(--sklearn-color-text);\n",
       "}\n",
       "\n",
       "#sk-container-id-3 pre {\n",
       "  padding: 0;\n",
       "}\n",
       "\n",
       "#sk-container-id-3 input.sk-hidden--visually {\n",
       "  border: 0;\n",
       "  clip: rect(1px 1px 1px 1px);\n",
       "  clip: rect(1px, 1px, 1px, 1px);\n",
       "  height: 1px;\n",
       "  margin: -1px;\n",
       "  overflow: hidden;\n",
       "  padding: 0;\n",
       "  position: absolute;\n",
       "  width: 1px;\n",
       "}\n",
       "\n",
       "#sk-container-id-3 div.sk-dashed-wrapped {\n",
       "  border: 1px dashed var(--sklearn-color-line);\n",
       "  margin: 0 0.4em 0.5em 0.4em;\n",
       "  box-sizing: border-box;\n",
       "  padding-bottom: 0.4em;\n",
       "  background-color: var(--sklearn-color-background);\n",
       "}\n",
       "\n",
       "#sk-container-id-3 div.sk-container {\n",
       "  /* jupyter's `normalize.less` sets `[hidden] { display: none; }`\n",
       "     but bootstrap.min.css set `[hidden] { display: none !important; }`\n",
       "     so we also need the `!important` here to be able to override the\n",
       "     default hidden behavior on the sphinx rendered scikit-learn.org.\n",
       "     See: https://github.com/scikit-learn/scikit-learn/issues/21755 */\n",
       "  display: inline-block !important;\n",
       "  position: relative;\n",
       "}\n",
       "\n",
       "#sk-container-id-3 div.sk-text-repr-fallback {\n",
       "  display: none;\n",
       "}\n",
       "\n",
       "div.sk-parallel-item,\n",
       "div.sk-serial,\n",
       "div.sk-item {\n",
       "  /* draw centered vertical line to link estimators */\n",
       "  background-image: linear-gradient(var(--sklearn-color-text-on-default-background), var(--sklearn-color-text-on-default-background));\n",
       "  background-size: 2px 100%;\n",
       "  background-repeat: no-repeat;\n",
       "  background-position: center center;\n",
       "}\n",
       "\n",
       "/* Parallel-specific style estimator block */\n",
       "\n",
       "#sk-container-id-3 div.sk-parallel-item::after {\n",
       "  content: \"\";\n",
       "  width: 100%;\n",
       "  border-bottom: 2px solid var(--sklearn-color-text-on-default-background);\n",
       "  flex-grow: 1;\n",
       "}\n",
       "\n",
       "#sk-container-id-3 div.sk-parallel {\n",
       "  display: flex;\n",
       "  align-items: stretch;\n",
       "  justify-content: center;\n",
       "  background-color: var(--sklearn-color-background);\n",
       "  position: relative;\n",
       "}\n",
       "\n",
       "#sk-container-id-3 div.sk-parallel-item {\n",
       "  display: flex;\n",
       "  flex-direction: column;\n",
       "}\n",
       "\n",
       "#sk-container-id-3 div.sk-parallel-item:first-child::after {\n",
       "  align-self: flex-end;\n",
       "  width: 50%;\n",
       "}\n",
       "\n",
       "#sk-container-id-3 div.sk-parallel-item:last-child::after {\n",
       "  align-self: flex-start;\n",
       "  width: 50%;\n",
       "}\n",
       "\n",
       "#sk-container-id-3 div.sk-parallel-item:only-child::after {\n",
       "  width: 0;\n",
       "}\n",
       "\n",
       "/* Serial-specific style estimator block */\n",
       "\n",
       "#sk-container-id-3 div.sk-serial {\n",
       "  display: flex;\n",
       "  flex-direction: column;\n",
       "  align-items: center;\n",
       "  background-color: var(--sklearn-color-background);\n",
       "  padding-right: 1em;\n",
       "  padding-left: 1em;\n",
       "}\n",
       "\n",
       "\n",
       "/* Toggleable style: style used for estimator/Pipeline/ColumnTransformer box that is\n",
       "clickable and can be expanded/collapsed.\n",
       "- Pipeline and ColumnTransformer use this feature and define the default style\n",
       "- Estimators will overwrite some part of the style using the `sk-estimator` class\n",
       "*/\n",
       "\n",
       "/* Pipeline and ColumnTransformer style (default) */\n",
       "\n",
       "#sk-container-id-3 div.sk-toggleable {\n",
       "  /* Default theme specific background. It is overwritten whether we have a\n",
       "  specific estimator or a Pipeline/ColumnTransformer */\n",
       "  background-color: var(--sklearn-color-background);\n",
       "}\n",
       "\n",
       "/* Toggleable label */\n",
       "#sk-container-id-3 label.sk-toggleable__label {\n",
       "  cursor: pointer;\n",
       "  display: block;\n",
       "  width: 100%;\n",
       "  margin-bottom: 0;\n",
       "  padding: 0.5em;\n",
       "  box-sizing: border-box;\n",
       "  text-align: center;\n",
       "}\n",
       "\n",
       "#sk-container-id-3 label.sk-toggleable__label-arrow:before {\n",
       "  /* Arrow on the left of the label */\n",
       "  content: \"▸\";\n",
       "  float: left;\n",
       "  margin-right: 0.25em;\n",
       "  color: var(--sklearn-color-icon);\n",
       "}\n",
       "\n",
       "#sk-container-id-3 label.sk-toggleable__label-arrow:hover:before {\n",
       "  color: var(--sklearn-color-text);\n",
       "}\n",
       "\n",
       "/* Toggleable content - dropdown */\n",
       "\n",
       "#sk-container-id-3 div.sk-toggleable__content {\n",
       "  max-height: 0;\n",
       "  max-width: 0;\n",
       "  overflow: hidden;\n",
       "  text-align: left;\n",
       "  /* unfitted */\n",
       "  background-color: var(--sklearn-color-unfitted-level-0);\n",
       "}\n",
       "\n",
       "#sk-container-id-3 div.sk-toggleable__content.fitted {\n",
       "  /* fitted */\n",
       "  background-color: var(--sklearn-color-fitted-level-0);\n",
       "}\n",
       "\n",
       "#sk-container-id-3 div.sk-toggleable__content pre {\n",
       "  margin: 0.2em;\n",
       "  border-radius: 0.25em;\n",
       "  color: var(--sklearn-color-text);\n",
       "  /* unfitted */\n",
       "  background-color: var(--sklearn-color-unfitted-level-0);\n",
       "}\n",
       "\n",
       "#sk-container-id-3 div.sk-toggleable__content.fitted pre {\n",
       "  /* unfitted */\n",
       "  background-color: var(--sklearn-color-fitted-level-0);\n",
       "}\n",
       "\n",
       "#sk-container-id-3 input.sk-toggleable__control:checked~div.sk-toggleable__content {\n",
       "  /* Expand drop-down */\n",
       "  max-height: 200px;\n",
       "  max-width: 100%;\n",
       "  overflow: auto;\n",
       "}\n",
       "\n",
       "#sk-container-id-3 input.sk-toggleable__control:checked~label.sk-toggleable__label-arrow:before {\n",
       "  content: \"▾\";\n",
       "}\n",
       "\n",
       "/* Pipeline/ColumnTransformer-specific style */\n",
       "\n",
       "#sk-container-id-3 div.sk-label input.sk-toggleable__control:checked~label.sk-toggleable__label {\n",
       "  color: var(--sklearn-color-text);\n",
       "  background-color: var(--sklearn-color-unfitted-level-2);\n",
       "}\n",
       "\n",
       "#sk-container-id-3 div.sk-label.fitted input.sk-toggleable__control:checked~label.sk-toggleable__label {\n",
       "  background-color: var(--sklearn-color-fitted-level-2);\n",
       "}\n",
       "\n",
       "/* Estimator-specific style */\n",
       "\n",
       "/* Colorize estimator box */\n",
       "#sk-container-id-3 div.sk-estimator input.sk-toggleable__control:checked~label.sk-toggleable__label {\n",
       "  /* unfitted */\n",
       "  background-color: var(--sklearn-color-unfitted-level-2);\n",
       "}\n",
       "\n",
       "#sk-container-id-3 div.sk-estimator.fitted input.sk-toggleable__control:checked~label.sk-toggleable__label {\n",
       "  /* fitted */\n",
       "  background-color: var(--sklearn-color-fitted-level-2);\n",
       "}\n",
       "\n",
       "#sk-container-id-3 div.sk-label label.sk-toggleable__label,\n",
       "#sk-container-id-3 div.sk-label label {\n",
       "  /* The background is the default theme color */\n",
       "  color: var(--sklearn-color-text-on-default-background);\n",
       "}\n",
       "\n",
       "/* On hover, darken the color of the background */\n",
       "#sk-container-id-3 div.sk-label:hover label.sk-toggleable__label {\n",
       "  color: var(--sklearn-color-text);\n",
       "  background-color: var(--sklearn-color-unfitted-level-2);\n",
       "}\n",
       "\n",
       "/* Label box, darken color on hover, fitted */\n",
       "#sk-container-id-3 div.sk-label.fitted:hover label.sk-toggleable__label.fitted {\n",
       "  color: var(--sklearn-color-text);\n",
       "  background-color: var(--sklearn-color-fitted-level-2);\n",
       "}\n",
       "\n",
       "/* Estimator label */\n",
       "\n",
       "#sk-container-id-3 div.sk-label label {\n",
       "  font-family: monospace;\n",
       "  font-weight: bold;\n",
       "  display: inline-block;\n",
       "  line-height: 1.2em;\n",
       "}\n",
       "\n",
       "#sk-container-id-3 div.sk-label-container {\n",
       "  text-align: center;\n",
       "}\n",
       "\n",
       "/* Estimator-specific */\n",
       "#sk-container-id-3 div.sk-estimator {\n",
       "  font-family: monospace;\n",
       "  border: 1px dotted var(--sklearn-color-border-box);\n",
       "  border-radius: 0.25em;\n",
       "  box-sizing: border-box;\n",
       "  margin-bottom: 0.5em;\n",
       "  /* unfitted */\n",
       "  background-color: var(--sklearn-color-unfitted-level-0);\n",
       "}\n",
       "\n",
       "#sk-container-id-3 div.sk-estimator.fitted {\n",
       "  /* fitted */\n",
       "  background-color: var(--sklearn-color-fitted-level-0);\n",
       "}\n",
       "\n",
       "/* on hover */\n",
       "#sk-container-id-3 div.sk-estimator:hover {\n",
       "  /* unfitted */\n",
       "  background-color: var(--sklearn-color-unfitted-level-2);\n",
       "}\n",
       "\n",
       "#sk-container-id-3 div.sk-estimator.fitted:hover {\n",
       "  /* fitted */\n",
       "  background-color: var(--sklearn-color-fitted-level-2);\n",
       "}\n",
       "\n",
       "/* Specification for estimator info (e.g. \"i\" and \"?\") */\n",
       "\n",
       "/* Common style for \"i\" and \"?\" */\n",
       "\n",
       ".sk-estimator-doc-link,\n",
       "a:link.sk-estimator-doc-link,\n",
       "a:visited.sk-estimator-doc-link {\n",
       "  float: right;\n",
       "  font-size: smaller;\n",
       "  line-height: 1em;\n",
       "  font-family: monospace;\n",
       "  background-color: var(--sklearn-color-background);\n",
       "  border-radius: 1em;\n",
       "  height: 1em;\n",
       "  width: 1em;\n",
       "  text-decoration: none !important;\n",
       "  margin-left: 1ex;\n",
       "  /* unfitted */\n",
       "  border: var(--sklearn-color-unfitted-level-1) 1pt solid;\n",
       "  color: var(--sklearn-color-unfitted-level-1);\n",
       "}\n",
       "\n",
       ".sk-estimator-doc-link.fitted,\n",
       "a:link.sk-estimator-doc-link.fitted,\n",
       "a:visited.sk-estimator-doc-link.fitted {\n",
       "  /* fitted */\n",
       "  border: var(--sklearn-color-fitted-level-1) 1pt solid;\n",
       "  color: var(--sklearn-color-fitted-level-1);\n",
       "}\n",
       "\n",
       "/* On hover */\n",
       "div.sk-estimator:hover .sk-estimator-doc-link:hover,\n",
       ".sk-estimator-doc-link:hover,\n",
       "div.sk-label-container:hover .sk-estimator-doc-link:hover,\n",
       ".sk-estimator-doc-link:hover {\n",
       "  /* unfitted */\n",
       "  background-color: var(--sklearn-color-unfitted-level-3);\n",
       "  color: var(--sklearn-color-background);\n",
       "  text-decoration: none;\n",
       "}\n",
       "\n",
       "div.sk-estimator.fitted:hover .sk-estimator-doc-link.fitted:hover,\n",
       ".sk-estimator-doc-link.fitted:hover,\n",
       "div.sk-label-container:hover .sk-estimator-doc-link.fitted:hover,\n",
       ".sk-estimator-doc-link.fitted:hover {\n",
       "  /* fitted */\n",
       "  background-color: var(--sklearn-color-fitted-level-3);\n",
       "  color: var(--sklearn-color-background);\n",
       "  text-decoration: none;\n",
       "}\n",
       "\n",
       "/* Span, style for the box shown on hovering the info icon */\n",
       ".sk-estimator-doc-link span {\n",
       "  display: none;\n",
       "  z-index: 9999;\n",
       "  position: relative;\n",
       "  font-weight: normal;\n",
       "  right: .2ex;\n",
       "  padding: .5ex;\n",
       "  margin: .5ex;\n",
       "  width: min-content;\n",
       "  min-width: 20ex;\n",
       "  max-width: 50ex;\n",
       "  color: var(--sklearn-color-text);\n",
       "  box-shadow: 2pt 2pt 4pt #999;\n",
       "  /* unfitted */\n",
       "  background: var(--sklearn-color-unfitted-level-0);\n",
       "  border: .5pt solid var(--sklearn-color-unfitted-level-3);\n",
       "}\n",
       "\n",
       ".sk-estimator-doc-link.fitted span {\n",
       "  /* fitted */\n",
       "  background: var(--sklearn-color-fitted-level-0);\n",
       "  border: var(--sklearn-color-fitted-level-3);\n",
       "}\n",
       "\n",
       ".sk-estimator-doc-link:hover span {\n",
       "  display: block;\n",
       "}\n",
       "\n",
       "/* \"?\"-specific style due to the `<a>` HTML tag */\n",
       "\n",
       "#sk-container-id-3 a.estimator_doc_link {\n",
       "  float: right;\n",
       "  font-size: 1rem;\n",
       "  line-height: 1em;\n",
       "  font-family: monospace;\n",
       "  background-color: var(--sklearn-color-background);\n",
       "  border-radius: 1rem;\n",
       "  height: 1rem;\n",
       "  width: 1rem;\n",
       "  text-decoration: none;\n",
       "  /* unfitted */\n",
       "  color: var(--sklearn-color-unfitted-level-1);\n",
       "  border: var(--sklearn-color-unfitted-level-1) 1pt solid;\n",
       "}\n",
       "\n",
       "#sk-container-id-3 a.estimator_doc_link.fitted {\n",
       "  /* fitted */\n",
       "  border: var(--sklearn-color-fitted-level-1) 1pt solid;\n",
       "  color: var(--sklearn-color-fitted-level-1);\n",
       "}\n",
       "\n",
       "/* On hover */\n",
       "#sk-container-id-3 a.estimator_doc_link:hover {\n",
       "  /* unfitted */\n",
       "  background-color: var(--sklearn-color-unfitted-level-3);\n",
       "  color: var(--sklearn-color-background);\n",
       "  text-decoration: none;\n",
       "}\n",
       "\n",
       "#sk-container-id-3 a.estimator_doc_link.fitted:hover {\n",
       "  /* fitted */\n",
       "  background-color: var(--sklearn-color-fitted-level-3);\n",
       "}\n",
       "</style><div id=\"sk-container-id-3\" class=\"sk-top-container\"><div class=\"sk-text-repr-fallback\"><pre>Ridge()</pre><b>In a Jupyter environment, please rerun this cell to show the HTML representation or trust the notebook. <br />On GitHub, the HTML representation is unable to render, please try loading this page with nbviewer.org.</b></div><div class=\"sk-container\" hidden><div class=\"sk-item\"><div class=\"sk-estimator fitted sk-toggleable\"><input class=\"sk-toggleable__control sk-hidden--visually\" id=\"sk-estimator-id-3\" type=\"checkbox\" checked><label for=\"sk-estimator-id-3\" class=\"sk-toggleable__label fitted sk-toggleable__label-arrow fitted\">&nbsp;&nbsp;Ridge<a class=\"sk-estimator-doc-link fitted\" rel=\"noreferrer\" target=\"_blank\" href=\"https://scikit-learn.org/1.4/modules/generated/sklearn.linear_model.Ridge.html\">?<span>Documentation for Ridge</span></a><span class=\"sk-estimator-doc-link fitted\">i<span>Fitted</span></span></label><div class=\"sk-toggleable__content fitted\"><pre>Ridge()</pre></div> </div></div></div></div>"
      ]
     },
     "execution_count": 44,
     "metadata": {},
     "output_type": "execute_result"
    }
   ],
   "execution_count": 44
  },
  {
   "cell_type": "markdown",
   "id": "a53529409319a3cf",
   "metadata": {},
   "source": [
    "# Делаем предсказание используя обученную модель"
   ]
  },
  {
   "cell_type": "code",
   "id": "96190610b56e0f26",
   "metadata": {
    "ExecuteTime": {
     "end_time": "2024-04-13T11:42:52.688490Z",
     "start_time": "2024-04-13T11:42:52.671870Z"
    }
   },
   "source": [
    "y_pred = ridge.predict(X_test)"
   ],
   "outputs": [],
   "execution_count": 45
  },
  {
   "cell_type": "markdown",
   "id": "f5c60490488a7331",
   "metadata": {},
   "source": [
    "# Определяем среднеквадратичную ошибку"
   ]
  },
  {
   "cell_type": "code",
   "id": "9dd719e493fd1915",
   "metadata": {
    "ExecuteTime": {
     "end_time": "2024-04-13T11:42:52.991496Z",
     "start_time": "2024-04-13T11:42:52.986473Z"
    }
   },
   "source": [
    "from sklearn.metrics import mean_squared_error\n",
    "import math\n",
    "import statistics\n",
    "mse = mean_squared_error(y_test, y_pred)\n",
    "rmse = math.sqrt(mse)\n",
    "print(rmse, statistics.median(y_test))\n",
    "\n",
    "\n",
    "baseline_prediction = np.median(y_train)\n",
    "baseline_predictions = np.full_like(y_test, fill_value=baseline_prediction)\n",
    "baseline_mse = mean_squared_error(y_test, baseline_predictions)\n",
    "print(baseline_mse / mse)"
   ],
   "outputs": [
    {
     "name": "stdout",
     "output_type": "stream",
     "text": [
      "233505.22800393906 450000\n",
      "2.181042420177597\n"
     ]
    }
   ],
   "execution_count": 46
  },
  {
   "metadata": {},
   "cell_type": "markdown",
   "source": [
    "Показатель rmse равен 203305 долларам. Это очень высокое значение ошибки, учитывая медианную цену объекта недвижимости в 450.000 долларов.\n",
    "Заметим, что тренированая модель дает результат примерно вдвое лучший, чем предсказание с использованием медианных значений аттрибутов. Вынесем гипотезу о том, что такой плохой результат вызван тем, что два параметра в выборке (кол-во квадратных футов площади, и количество спален) являются созависимыми."
   ],
   "id": "adfc79ff81fd366a"
  },
  {
   "metadata": {
    "ExecuteTime": {
     "end_time": "2024-04-13T11:42:53.375253Z",
     "start_time": "2024-04-13T11:42:53.370543Z"
    }
   },
   "cell_type": "code",
   "source": "print(X.corr())",
   "id": "a9fafd8ae82f27a3",
   "outputs": [
    {
     "name": "stdout",
     "output_type": "stream",
     "text": [
      "             bedrooms  waterfront  sqft_living\n",
      "bedrooms     1.000000   -0.012790     0.579654\n",
      "waterfront  -0.012790    1.000000     0.074076\n",
      "sqft_living  0.579654    0.074076     1.000000\n"
     ]
    }
   ],
   "execution_count": 47
  },
  {
   "metadata": {},
   "cell_type": "markdown",
   "source": "Гипотеза подтвердилась. Учитывая, что третьим параметром является не очень информативный параметр сам по себе (близость к воде), по сути мы тренируем выборку на довольно некачественных параметрах.",
   "id": "f4a83fe314254978"
  },
  {
   "cell_type": "markdown",
   "id": "3507b47bbb4b8f6d",
   "metadata": {},
   "source": [
    "# Рисуем гистограмму"
   ]
  },
  {
   "cell_type": "code",
   "id": "fec9a926d81d589",
   "metadata": {
    "ExecuteTime": {
     "end_time": "2024-04-13T11:42:53.905466Z",
     "start_time": "2024-04-13T11:42:53.772892Z"
    }
   },
   "source": [
    "import matplotlib.pyplot as plt\n",
    "plt.figure(figsize=(10, 6))\n",
    "\n",
    "plt.hist(y_test, bins=30, alpha=0.5, color='blue', label='Test Values')\n",
    "plt.hist(y_pred, bins=30, alpha=0.5, color='red', label='Predicted Values')\n",
    "\n",
    "plt.xlabel('Value')\n",
    "plt.ylabel('Frequency')\n",
    "plt.title('Histogram of Predicted and Test Values')\n",
    "plt.legend()\n",
    "\n",
    "plt.show()"
   ],
   "outputs": [
    {
     "data": {
      "text/plain": [
       "<Figure size 1000x600 with 1 Axes>"
      ],
      "image/png": "[encoded data removed]"
     },
     "metadata": {},
     "output_type": "display_data"
    }
   ],
   "execution_count": 48
  },
  {
   "cell_type": "markdown",
   "id": "af1322eaa1dbc277",
   "metadata": {},
   "source": "Из анализа гистограммы мы можем сделать вывод, что алгоритм оценки хоть и дает относительно схожее распределение значений оценки цены, но при этом стабильно переоценивает объекты недвижимости примерно на 50%, что является высокой погрешностью оценки. Вынесем гипотезу о том, что качество модели можно многократно улучшить добавив в нее параметры почтового индекса, года реновации жилья и категории жилья."
  },
  {
   "metadata": {
    "ExecuteTime": {
     "end_time": "2024-04-13T11:42:54.412820Z",
     "start_time": "2024-04-13T11:42:54.215521Z"
    }
   },
   "cell_type": "code",
   "source": [
    "X = data[[\"bedrooms\", \"waterfront\", \"sqft_living\", \"zipcode\", \"yr_renovated\", \"yr_built\", \"grade\"]]\n",
    "X_train, X_test, y_train, y_test = train_test_split(X, y, test_size=0.3, stratify=y, random_state=42)\n",
    "X_train = scaler.fit_transform(X_train)\n",
    "X_test = scaler.fit_transform(X_test)\n",
    "\n",
    "ridge_ex = Ridge(alpha=1.0)\n",
    "ridge_ex.fit(X_train, y_train)\n",
    "y_pred = ridge_ex.predict(X_test)\n",
    "\n",
    "plt.figure(figsize=(10, 6))\n",
    "plt.hist(y_test, bins=30, alpha=0.5, color='blue', label='Test Values')\n",
    "plt.hist(y_pred, bins=30, alpha=0.5, color='red', label='Predicted Values')\n",
    "plt.xlabel('Value')\n",
    "plt.ylabel('Frequency')\n",
    "plt.title('Histogram of Predicted and Test Values')\n",
    "plt.legend()\n",
    "plt.show()"
   ],
   "id": "599e1511f4f3fdc",
   "outputs": [
    {
     "data": {
      "text/plain": [
       "<Figure size 1000x600 with 1 Axes>"
      ],
      "image/png": "[encoded data removed]"
     },
     "metadata": {},
     "output_type": "display_data"
    }
   ],
   "execution_count": 49
  },
  {
   "metadata": {},
   "cell_type": "markdown",
   "source": "Как очевидно из графика, гипотеза подтвердилась.",
   "id": "d24df95649fb1547"
  },
  {
   "metadata": {},
   "cell_type": "markdown",
   "source": "# Функциональный вид модели",
   "id": "3526001fc36579e2"
  },
  {
   "metadata": {
    "ExecuteTime": {
     "end_time": "2024-04-13T11:42:54.626813Z",
     "start_time": "2024-04-13T11:42:54.624110Z"
    }
   },
   "cell_type": "code",
   "source": "print(\"price = {} * bedrooms + {} * waterfront + {} * sqft_living\".format(np.round(ridge.coef_[0], 2), np.round(ridge.coef_[1], 2), np.round(ridge.coef_[2], 2)))",
   "id": "d87148db3085baa9",
   "outputs": [
    {
     "name": "stdout",
     "output_type": "stream",
     "text": [
      "price = -36990.72 * bedrooms + 57920.69 * waterfront + 245422.24 * sqft_living\n"
     ]
    }
   ],
   "execution_count": 50
  },
  {
   "metadata": {},
   "cell_type": "markdown",
   "source": "Как видно из данной модели, наибольшее влияние на целевую характеристику имеет параметр количества квадратных футов площади жилья. При этом, количество комнат имеет отрицательное влияние на стоимость.",
   "id": "b57577d5f0e7e3d1"
  },
  {
   "metadata": {},
   "cell_type": "markdown",
   "source": "# Вывод",
   "id": "c5ea43efb3b7d0ed"
  },
  {
   "metadata": {},
   "cell_type": "markdown",
   "source": "В результате выполнения лабораторной работы было разработано приложение для прогнозирование цен на недвижимость. Построена и обучена модель ридж-регрессии на основе входных данных в виде количества комнат, принадлежности жилья к классу жилья с видом на воду и количества квадратных футов площади жилья в г. Сиэттл и его окрестностях. Расчитанный RMSE говорит о довольно высокой погрешности, что говорит о том, что алгоритм стабильно переоценивает жилье. При этом, распределение цен приблизильно совпадает с распределением цен в тестовой выборке. Низкое качество работы обученной модели объясняется не очень хорошим подбором параметров (два из них созависимы, а третий, сам по себе, не дает высокой точности). Обученная модель представлена в функциональном виде. Веса модели показывают, что наиболее влияющий фактор - количество квадратных футов метров жилья.",
   "id": "cd78d4015c43c054"
  }
 ],
 "metadata": {
  "kernelspec": {
   "display_name": "Python 3 (ipykernel)",
   "language": "python",
   "name": "python3"
  },
  "language_info": {
   "codemirror_mode": {
    "name": "ipython",
    "version": 3
   },
   "file_extension": ".py",
   "mimetype": "text/x-python",
   "name": "python",
   "nbconvert_exporter": "python",
   "pygments_lexer": "ipython3",
   "version": "3.9.6"
  }
 },
 "nbformat": 4,
 "nbformat_minor": 5
}
